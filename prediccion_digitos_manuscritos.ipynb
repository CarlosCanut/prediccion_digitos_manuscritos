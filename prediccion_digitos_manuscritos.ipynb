{
  "nbformat": 4,
  "nbformat_minor": 0,
  "metadata": {
    "colab": {
      "name": "prediccion_digitos_manuscritos.ipynb",
      "provenance": [],
      "collapsed_sections": []
    },
    "kernelspec": {
      "name": "python3",
      "display_name": "Python 3"
    }
  },
  "cells": [
    {
      "cell_type": "markdown",
      "metadata": {
        "id": "cHiRW1k051QW",
        "colab_type": "text"
      },
      "source": [
        "Para realizar la predicción de dígitos manuscrítos primero de todo hemos querido obtener un dataset con imagenes de dígitos manuscritos, para esto hemos encontrado MNIST que es justo eso, pero hemos querido un poco más allá que simplemente implementarla mediante keras y hemos analizado como funciona este dataset por dentro."
      ]
    },
    {
      "cell_type": "markdown",
      "metadata": {
        "id": "ITmrfvSi81pe",
        "colab_type": "text"
      },
      "source": [
        "En esta web http://yann.lecun.com/exdb/mnist/ hemos encontrado el conjunto de entrenamiento y de test para hacer el modelo, cuenta con 60000 imagenes de entrenamiento y 10000 imagenes de test, en este nos ofrecen los conjuntos de imagenes en un formato IDX que es un formato de matrices multidimensionales de diferentes tipos numericos, por lo que previo a utilizar el dataset lo hemos convertido a un formato csv para poder utilizarlo.\n",
        "\n",
        "**- ¿Como podríamos añadir nuevas imagenes a este dataset?**\n",
        "1.- Primero de todo deberiamos tomar imagenes de dígitos manuscritos con una iluminación decente.\n",
        "2.- Después deberíamos hacer una normalización de las imagenes para que todas tengan el mismo tamaño y dimensiones, para esto podríamos aplicar **Bounding-Box**, centrar las imagenes, redimensionarlas y pasarlas a escala de grises para que tengan un tamaño de 28x28 pixeles, la misma orientación y aspecto."
      ]
    },
    {
      "cell_type": "code",
      "metadata": {
        "id": "w6ANg_7ZBsE1",
        "colab_type": "code",
        "colab": {
          "base_uri": "https://localhost:8080/",
          "height": 68
        },
        "outputId": "4ff11a18-b0a5-4b6e-a759-4844fbe7182e"
      },
      "source": [
        "# Primero vamos a usar algo que nose que hace pero al parecer lo necesitamos \n",
        "\n",
        "import pandas as pd\n",
        "import numpy as np\n",
        "import matplotlib.pyplot as plt\n",
        "import matplotlib.image as mpimg\n",
        "import seaborn as sns\n",
        "%matplotlib inline\n",
        "\n",
        "np.random.seed(2)\n",
        "\n",
        "from sklearn.model_selection import train_test_split\n",
        "from sklearn.metrics import confusion_matrix\n",
        "import itertools\n",
        "\n",
        "from keras.utils.np_utils import to_categorical # convert to one-hot-encoding\n",
        "from keras.models import Sequential\n",
        "from keras.layers import Dense, Dropout, Flatten, Conv2D, MaxPool2D\n",
        "from keras.optimizers import RMSprop\n",
        "from keras.preprocessing.image import ImageDataGenerator\n",
        "from keras.callbacks import ReduceLROnPlateau\n",
        "from keras.callbacks import EarlyStopping\n",
        "\n",
        "\n",
        "sns.set(style='white', context='notebook', palette='deep')"
      ],
      "execution_count": null,
      "outputs": [
        {
          "output_type": "stream",
          "text": [
            "/usr/local/lib/python3.6/dist-packages/statsmodels/tools/_testing.py:19: FutureWarning: pandas.util.testing is deprecated. Use the functions in the public API at pandas.testing instead.\n",
            "  import pandas.util.testing as tm\n",
            "Using TensorFlow backend.\n"
          ],
          "name": "stderr"
        }
      ]
    },
    {
      "cell_type": "code",
      "metadata": {
        "id": "xIx7-ULJCQx1",
        "colab_type": "code",
        "colab": {
          "base_uri": "https://localhost:8080/",
          "height": 442
        },
        "outputId": "86c15860-c09c-402c-83ee-4b884f7ae09d"
      },
      "source": [
        "# Primero de todo vamos a cargar los datos usando pandas, estos son los sets de datos obtenidos previamente\n",
        "train = pd.read_csv(\"./train/train.csv\")\n",
        "test = pd.read_csv(\"./test/test.csv\")\n",
        "\n",
        "# Ahora definimos donde se encuentran las etiquetas, en nuestro caso es en la primera fila\n",
        "Y_train = train[\"label\"]\n",
        "X_train = train.drop(labels = [\"label\"],axis = 1) \n",
        "\n",
        "# etiquetas con los valores correspondientes a la imagen\n",
        "g = sns.countplot(Y_train)\n",
        "\n",
        "# numero de valores de cada etiqueta\n",
        "Y_train.value_counts()\n",
        "\n",
        "# comprobamos que no hay datos vacios\n",
        "X_train.isnull().any().describe()\n",
        "test.isnull().any().describe()"
      ],
      "execution_count": null,
      "outputs": [
        {
          "output_type": "error",
          "ename": "FileNotFoundError",
          "evalue": "ignored",
          "traceback": [
            "\u001b[0;31m---------------------------------------------------------------------------\u001b[0m",
            "\u001b[0;31mFileNotFoundError\u001b[0m                         Traceback (most recent call last)",
            "\u001b[0;32m<ipython-input-3-87a1f5735660>\u001b[0m in \u001b[0;36m<module>\u001b[0;34m()\u001b[0m\n\u001b[1;32m      1\u001b[0m \u001b[0;31m# Primero de todo vamos a cargar los datos usando pandas, estos son los sets de datos obtenidos previamente\u001b[0m\u001b[0;34m\u001b[0m\u001b[0;34m\u001b[0m\u001b[0;34m\u001b[0m\u001b[0m\n\u001b[0;32m----> 2\u001b[0;31m \u001b[0mtrain\u001b[0m \u001b[0;34m=\u001b[0m \u001b[0mpd\u001b[0m\u001b[0;34m.\u001b[0m\u001b[0mread_csv\u001b[0m\u001b[0;34m(\u001b[0m\u001b[0;34m\"./train/train.csv\"\u001b[0m\u001b[0;34m)\u001b[0m\u001b[0;34m\u001b[0m\u001b[0;34m\u001b[0m\u001b[0m\n\u001b[0m\u001b[1;32m      3\u001b[0m \u001b[0mtest\u001b[0m \u001b[0;34m=\u001b[0m \u001b[0mpd\u001b[0m\u001b[0;34m.\u001b[0m\u001b[0mread_csv\u001b[0m\u001b[0;34m(\u001b[0m\u001b[0;34m\"./test/test.csv\"\u001b[0m\u001b[0;34m)\u001b[0m\u001b[0;34m\u001b[0m\u001b[0;34m\u001b[0m\u001b[0m\n\u001b[1;32m      4\u001b[0m \u001b[0;34m\u001b[0m\u001b[0m\n\u001b[1;32m      5\u001b[0m \u001b[0;31m# Ahora definimos donde se encuentran las etiquetas, en nuestro caso es en la primera fila\u001b[0m\u001b[0;34m\u001b[0m\u001b[0;34m\u001b[0m\u001b[0;34m\u001b[0m\u001b[0m\n",
            "\u001b[0;32m/usr/local/lib/python3.6/dist-packages/pandas/io/parsers.py\u001b[0m in \u001b[0;36mparser_f\u001b[0;34m(filepath_or_buffer, sep, delimiter, header, names, index_col, usecols, squeeze, prefix, mangle_dupe_cols, dtype, engine, converters, true_values, false_values, skipinitialspace, skiprows, skipfooter, nrows, na_values, keep_default_na, na_filter, verbose, skip_blank_lines, parse_dates, infer_datetime_format, keep_date_col, date_parser, dayfirst, cache_dates, iterator, chunksize, compression, thousands, decimal, lineterminator, quotechar, quoting, doublequote, escapechar, comment, encoding, dialect, error_bad_lines, warn_bad_lines, delim_whitespace, low_memory, memory_map, float_precision)\u001b[0m\n\u001b[1;32m    674\u001b[0m         )\n\u001b[1;32m    675\u001b[0m \u001b[0;34m\u001b[0m\u001b[0m\n\u001b[0;32m--> 676\u001b[0;31m         \u001b[0;32mreturn\u001b[0m \u001b[0m_read\u001b[0m\u001b[0;34m(\u001b[0m\u001b[0mfilepath_or_buffer\u001b[0m\u001b[0;34m,\u001b[0m \u001b[0mkwds\u001b[0m\u001b[0;34m)\u001b[0m\u001b[0;34m\u001b[0m\u001b[0;34m\u001b[0m\u001b[0m\n\u001b[0m\u001b[1;32m    677\u001b[0m \u001b[0;34m\u001b[0m\u001b[0m\n\u001b[1;32m    678\u001b[0m     \u001b[0mparser_f\u001b[0m\u001b[0;34m.\u001b[0m\u001b[0m__name__\u001b[0m \u001b[0;34m=\u001b[0m \u001b[0mname\u001b[0m\u001b[0;34m\u001b[0m\u001b[0;34m\u001b[0m\u001b[0m\n",
            "\u001b[0;32m/usr/local/lib/python3.6/dist-packages/pandas/io/parsers.py\u001b[0m in \u001b[0;36m_read\u001b[0;34m(filepath_or_buffer, kwds)\u001b[0m\n\u001b[1;32m    446\u001b[0m \u001b[0;34m\u001b[0m\u001b[0m\n\u001b[1;32m    447\u001b[0m     \u001b[0;31m# Create the parser.\u001b[0m\u001b[0;34m\u001b[0m\u001b[0;34m\u001b[0m\u001b[0;34m\u001b[0m\u001b[0m\n\u001b[0;32m--> 448\u001b[0;31m     \u001b[0mparser\u001b[0m \u001b[0;34m=\u001b[0m \u001b[0mTextFileReader\u001b[0m\u001b[0;34m(\u001b[0m\u001b[0mfp_or_buf\u001b[0m\u001b[0;34m,\u001b[0m \u001b[0;34m**\u001b[0m\u001b[0mkwds\u001b[0m\u001b[0;34m)\u001b[0m\u001b[0;34m\u001b[0m\u001b[0;34m\u001b[0m\u001b[0m\n\u001b[0m\u001b[1;32m    449\u001b[0m \u001b[0;34m\u001b[0m\u001b[0m\n\u001b[1;32m    450\u001b[0m     \u001b[0;32mif\u001b[0m \u001b[0mchunksize\u001b[0m \u001b[0;32mor\u001b[0m \u001b[0miterator\u001b[0m\u001b[0;34m:\u001b[0m\u001b[0;34m\u001b[0m\u001b[0;34m\u001b[0m\u001b[0m\n",
            "\u001b[0;32m/usr/local/lib/python3.6/dist-packages/pandas/io/parsers.py\u001b[0m in \u001b[0;36m__init__\u001b[0;34m(self, f, engine, **kwds)\u001b[0m\n\u001b[1;32m    878\u001b[0m             \u001b[0mself\u001b[0m\u001b[0;34m.\u001b[0m\u001b[0moptions\u001b[0m\u001b[0;34m[\u001b[0m\u001b[0;34m\"has_index_names\"\u001b[0m\u001b[0;34m]\u001b[0m \u001b[0;34m=\u001b[0m \u001b[0mkwds\u001b[0m\u001b[0;34m[\u001b[0m\u001b[0;34m\"has_index_names\"\u001b[0m\u001b[0;34m]\u001b[0m\u001b[0;34m\u001b[0m\u001b[0;34m\u001b[0m\u001b[0m\n\u001b[1;32m    879\u001b[0m \u001b[0;34m\u001b[0m\u001b[0m\n\u001b[0;32m--> 880\u001b[0;31m         \u001b[0mself\u001b[0m\u001b[0;34m.\u001b[0m\u001b[0m_make_engine\u001b[0m\u001b[0;34m(\u001b[0m\u001b[0mself\u001b[0m\u001b[0;34m.\u001b[0m\u001b[0mengine\u001b[0m\u001b[0;34m)\u001b[0m\u001b[0;34m\u001b[0m\u001b[0;34m\u001b[0m\u001b[0m\n\u001b[0m\u001b[1;32m    881\u001b[0m \u001b[0;34m\u001b[0m\u001b[0m\n\u001b[1;32m    882\u001b[0m     \u001b[0;32mdef\u001b[0m \u001b[0mclose\u001b[0m\u001b[0;34m(\u001b[0m\u001b[0mself\u001b[0m\u001b[0;34m)\u001b[0m\u001b[0;34m:\u001b[0m\u001b[0;34m\u001b[0m\u001b[0;34m\u001b[0m\u001b[0m\n",
            "\u001b[0;32m/usr/local/lib/python3.6/dist-packages/pandas/io/parsers.py\u001b[0m in \u001b[0;36m_make_engine\u001b[0;34m(self, engine)\u001b[0m\n\u001b[1;32m   1112\u001b[0m     \u001b[0;32mdef\u001b[0m \u001b[0m_make_engine\u001b[0m\u001b[0;34m(\u001b[0m\u001b[0mself\u001b[0m\u001b[0;34m,\u001b[0m \u001b[0mengine\u001b[0m\u001b[0;34m=\u001b[0m\u001b[0;34m\"c\"\u001b[0m\u001b[0;34m)\u001b[0m\u001b[0;34m:\u001b[0m\u001b[0;34m\u001b[0m\u001b[0;34m\u001b[0m\u001b[0m\n\u001b[1;32m   1113\u001b[0m         \u001b[0;32mif\u001b[0m \u001b[0mengine\u001b[0m \u001b[0;34m==\u001b[0m \u001b[0;34m\"c\"\u001b[0m\u001b[0;34m:\u001b[0m\u001b[0;34m\u001b[0m\u001b[0;34m\u001b[0m\u001b[0m\n\u001b[0;32m-> 1114\u001b[0;31m             \u001b[0mself\u001b[0m\u001b[0;34m.\u001b[0m\u001b[0m_engine\u001b[0m \u001b[0;34m=\u001b[0m \u001b[0mCParserWrapper\u001b[0m\u001b[0;34m(\u001b[0m\u001b[0mself\u001b[0m\u001b[0;34m.\u001b[0m\u001b[0mf\u001b[0m\u001b[0;34m,\u001b[0m \u001b[0;34m**\u001b[0m\u001b[0mself\u001b[0m\u001b[0;34m.\u001b[0m\u001b[0moptions\u001b[0m\u001b[0;34m)\u001b[0m\u001b[0;34m\u001b[0m\u001b[0;34m\u001b[0m\u001b[0m\n\u001b[0m\u001b[1;32m   1115\u001b[0m         \u001b[0;32melse\u001b[0m\u001b[0;34m:\u001b[0m\u001b[0;34m\u001b[0m\u001b[0;34m\u001b[0m\u001b[0m\n\u001b[1;32m   1116\u001b[0m             \u001b[0;32mif\u001b[0m \u001b[0mengine\u001b[0m \u001b[0;34m==\u001b[0m \u001b[0;34m\"python\"\u001b[0m\u001b[0;34m:\u001b[0m\u001b[0;34m\u001b[0m\u001b[0;34m\u001b[0m\u001b[0m\n",
            "\u001b[0;32m/usr/local/lib/python3.6/dist-packages/pandas/io/parsers.py\u001b[0m in \u001b[0;36m__init__\u001b[0;34m(self, src, **kwds)\u001b[0m\n\u001b[1;32m   1889\u001b[0m         \u001b[0mkwds\u001b[0m\u001b[0;34m[\u001b[0m\u001b[0;34m\"usecols\"\u001b[0m\u001b[0;34m]\u001b[0m \u001b[0;34m=\u001b[0m \u001b[0mself\u001b[0m\u001b[0;34m.\u001b[0m\u001b[0musecols\u001b[0m\u001b[0;34m\u001b[0m\u001b[0;34m\u001b[0m\u001b[0m\n\u001b[1;32m   1890\u001b[0m \u001b[0;34m\u001b[0m\u001b[0m\n\u001b[0;32m-> 1891\u001b[0;31m         \u001b[0mself\u001b[0m\u001b[0;34m.\u001b[0m\u001b[0m_reader\u001b[0m \u001b[0;34m=\u001b[0m \u001b[0mparsers\u001b[0m\u001b[0;34m.\u001b[0m\u001b[0mTextReader\u001b[0m\u001b[0;34m(\u001b[0m\u001b[0msrc\u001b[0m\u001b[0;34m,\u001b[0m \u001b[0;34m**\u001b[0m\u001b[0mkwds\u001b[0m\u001b[0;34m)\u001b[0m\u001b[0;34m\u001b[0m\u001b[0;34m\u001b[0m\u001b[0m\n\u001b[0m\u001b[1;32m   1892\u001b[0m         \u001b[0mself\u001b[0m\u001b[0;34m.\u001b[0m\u001b[0munnamed_cols\u001b[0m \u001b[0;34m=\u001b[0m \u001b[0mself\u001b[0m\u001b[0;34m.\u001b[0m\u001b[0m_reader\u001b[0m\u001b[0;34m.\u001b[0m\u001b[0munnamed_cols\u001b[0m\u001b[0;34m\u001b[0m\u001b[0;34m\u001b[0m\u001b[0m\n\u001b[1;32m   1893\u001b[0m \u001b[0;34m\u001b[0m\u001b[0m\n",
            "\u001b[0;32mpandas/_libs/parsers.pyx\u001b[0m in \u001b[0;36mpandas._libs.parsers.TextReader.__cinit__\u001b[0;34m()\u001b[0m\n",
            "\u001b[0;32mpandas/_libs/parsers.pyx\u001b[0m in \u001b[0;36mpandas._libs.parsers.TextReader._setup_parser_source\u001b[0;34m()\u001b[0m\n",
            "\u001b[0;31mFileNotFoundError\u001b[0m: [Errno 2] File ./train/train.csv does not exist: './train/train.csv'"
          ]
        }
      ]
    },
    {
      "cell_type": "markdown",
      "metadata": {
        "id": "ijVa4ky2EOsy",
        "colab_type": "text"
      },
      "source": [
        "Ahora que tenemos los datos vamos a normalizarlos todos:"
      ]
    },
    {
      "cell_type": "code",
      "metadata": {
        "id": "03FRvzieESsd",
        "colab_type": "code",
        "colab": {}
      },
      "source": [
        "# Normalizamos las imagenes de [0,255] a [0,1] para que no hayan problemas de iluminación\n",
        "X_train = X_train / 255.0\n",
        "test = test / 255.0\n",
        "\n",
        "# Ahora reescalamos las imagenes para que tengan 28px de alto, 28px de ancho\n",
        "X_train = X_train.values.reshape(-1,28,28,1)\n",
        "test = test.values.reshape(-1,28,28,1)\n",
        "\n",
        "# Agrupamos las etiquetas en un único vector que marca que tipo de numero es, siendo tipo [0 1 2 3 4 5 6 7 8 9] (ej.- 2 -> [0,0,1,0,0,0,0,0,0,0])\n",
        "Y_train = to_categorical(Y_train, num_classes = 10)\n",
        "\n",
        "# separamos el set de entrenamiento en el set de entrenamiento 90% y un set de validación para posteriormente comprobar el funcionamiento del modelo 10%\n",
        "X_train, X_val, Y_train, Y_val = train_test_split(X_train, Y_train, test_size = 0.1, random_state=2)"
      ],
      "execution_count": null,
      "outputs": []
    },
    {
      "cell_type": "code",
      "metadata": {
        "id": "dHqBxlfFGAnq",
        "colab_type": "code",
        "colab": {
          "base_uri": "https://localhost:8080/",
          "height": 180
        },
        "outputId": "93543807-dfbd-4814-fa4d-4607e6546a18"
      },
      "source": [
        "# visualizar un ejemplo de imagen ->\n",
        "g = plt.imshow(X_train[1][:,:,0])"
      ],
      "execution_count": null,
      "outputs": [
        {
          "output_type": "error",
          "ename": "NameError",
          "evalue": "ignored",
          "traceback": [
            "\u001b[0;31m---------------------------------------------------------------------------\u001b[0m",
            "\u001b[0;31mNameError\u001b[0m                                 Traceback (most recent call last)",
            "\u001b[0;32m<ipython-input-1-a032526d8b05>\u001b[0m in \u001b[0;36m<module>\u001b[0;34m()\u001b[0m\n\u001b[1;32m      1\u001b[0m \u001b[0;31m# visualizar un ejemplo de imagen ->\u001b[0m\u001b[0;34m\u001b[0m\u001b[0;34m\u001b[0m\u001b[0;34m\u001b[0m\u001b[0m\n\u001b[0;32m----> 2\u001b[0;31m \u001b[0mg\u001b[0m \u001b[0;34m=\u001b[0m \u001b[0mplt\u001b[0m\u001b[0;34m.\u001b[0m\u001b[0mimshow\u001b[0m\u001b[0;34m(\u001b[0m\u001b[0mX_train\u001b[0m\u001b[0;34m[\u001b[0m\u001b[0;36m1\u001b[0m\u001b[0;34m]\u001b[0m\u001b[0;34m[\u001b[0m\u001b[0;34m:\u001b[0m\u001b[0;34m,\u001b[0m\u001b[0;34m:\u001b[0m\u001b[0;34m,\u001b[0m\u001b[0;36m0\u001b[0m\u001b[0;34m]\u001b[0m\u001b[0;34m)\u001b[0m\u001b[0;34m\u001b[0m\u001b[0;34m\u001b[0m\u001b[0m\n\u001b[0m",
            "\u001b[0;31mNameError\u001b[0m: name 'plt' is not defined"
          ]
        }
      ]
    },
    {
      "cell_type": "markdown",
      "metadata": {
        "id": "rvTVxOKlGKAL",
        "colab_type": "text"
      },
      "source": [
        "Ahora vamos a realizar el diseño del modelo que vamos a utilizar, en nuestro caso vamos a hacer uso de una red neuronal similar a la de la práctica ya que hemos observado (como se puede ver en la página web que se muestra al inicio del collab) que las redes neuronales son las que menos tasa de error tienen:"
      ]
    },
    {
      "cell_type": "markdown",
      "metadata": {
        "id": "V4bW-U_XJhby",
        "colab_type": "text"
      },
      "source": [
        "1.- Primero se aplica una capa de filtros de aprendizaje con Conv2D usando 32 filtros para los dos primeros Conv2D y 64 para los dos últimos Conv2D.\n",
        "2.- Después se aplica una capa de MaxPool2D para disminuir la resolución, de esta manera se reduce el coste computacional.\n",
        "- Combinando las capas de pooling (agrupación) y convolucional conseguimos detectar caracteristicas tanto a nivel global como local de la imagen."
      ]
    },
    {
      "cell_type": "code",
      "metadata": {
        "id": "InnGsE_AGkLj",
        "colab_type": "code",
        "colab": {}
      },
      "source": [
        "# El modelo que vamos a utilizar es un CNN de la siguiente manera:\n",
        "# Input -> [[Conv2D -> rectificador(relu)*2] -> MaxPool2D -> Dropout]*2 -> Flatten -> Dense -> Dropout -> Output\n",
        "\n",
        "model = Sequential()\n",
        "\n",
        "model.add(Conv2D(filters = 32, kernel_size = (5,5),padding = 'Same', \n",
        "                 activation ='relu', input_shape = (28,28,1)))\n",
        "model.add(Conv2D(filters = 32, kernel_size = (5,5),padding = 'Same', \n",
        "                 activation ='relu'))\n",
        "model.add(MaxPool2D(pool_size=(2,2)))\n",
        "model.add(Dropout(0.25))\n",
        "\n",
        "\n",
        "model.add(Conv2D(filters = 64, kernel_size = (3,3),padding = 'Same', \n",
        "                 activation ='relu'))\n",
        "model.add(Conv2D(filters = 64, kernel_size = (3,3),padding = 'Same', \n",
        "                 activation ='relu'))\n",
        "model.add(MaxPool2D(pool_size=(2,2), strides=(2,2)))\n",
        "model.add(Dropout(0.25))\n",
        "\n",
        "\n",
        "model.add(Flatten())\n",
        "model.add(Dense(256, activation = \"relu\"))\n",
        "model.add(Dropout(0.5))\n",
        "model.add(Dense(10, activation = \"softmax\"))"
      ],
      "execution_count": null,
      "outputs": []
    },
    {
      "cell_type": "markdown",
      "metadata": {
        "id": "4Kf6ZONhLcV9",
        "colab_type": "text"
      },
      "source": [
        "Ahora vamos a añadir una función de marcaje, de pérdida y un algoritmo de optimización.\n",
        "\n",
        "Para la optimización hemos utilizado RMSprop.\n"
      ]
    },
    {
      "cell_type": "code",
      "metadata": {
        "id": "hQ1sAynfMJVC",
        "colab_type": "code",
        "colab": {}
      },
      "source": [
        "# Optimizador\n",
        "optimizer = RMSprop(lr=0.001, rho=0.9, epsilon=1e-08, decay=0.0)\n",
        "\n",
        "# Compilar el modelo\n",
        "model.compile(optimizer = optimizer, loss = \"categorical_crossentropy\", metrics=['accuracy'])"
      ],
      "execution_count": null,
      "outputs": []
    },
    {
      "cell_type": "markdown",
      "metadata": {
        "id": "1MVtkw99NFjo",
        "colab_type": "text"
      },
      "source": [
        "Para hacer que el optimizador sea más preciso, vamos a mejorar la tasa de aprendizaje (LR), esta tasa de aprendizaje es la encargada de decidir cuan rapido se adapta el modelo al problema que trata de solucionar, por lo que vamos a realizar una variación en este.\n",
        "\n",
        "Primero, empezaremos la fase de entrenamiento con un LR más alto que vaya disminuyendo con el paso del tiempo.\n",
        "\n",
        "Debido a esto, deberemos utilizar una función llamada ReduceLROnPlateau.\n"
      ]
    },
    {
      "cell_type": "code",
      "metadata": {
        "id": "39XnfSREOxe4",
        "colab_type": "code",
        "colab": {}
      },
      "source": [
        "reduccion_de_tasa_de_aprendizaje = ReduceLROnPlateau(monitor='val_accuracy', \n",
        "                                            patience=3, \n",
        "                                            verbose=1, \n",
        "                                            factor=0.5, \n",
        "                                            min_lr=0.00001)\n",
        "\n",
        "epochs = 30\n",
        "batch_size = 86"
      ],
      "execution_count": null,
      "outputs": []
    },
    {
      "cell_type": "markdown",
      "metadata": {
        "id": "Frqj6tobO7Ck",
        "colab_type": "text"
      },
      "source": [
        "A continuación lo que vamos a hacer es mejorar la precisión de nuestro modelo aumentando el dataset de manera que este aprenda a trabajar con imagenes que no estén centradas o que tengan escritos los dígitos más pequeños...\n",
        "\n",
        "Esto lo podemos conseguir haciendo que pueda etiquetar de manera correcta las imagenes aunque hayan cambios en el array de estas, haremos uso de las imagenes ya existentes y les realizaremos transformaciones básicas, de esta manera podrá reconocer inputs variantes."
      ]
    },
    {
      "cell_type": "code",
      "metadata": {
        "id": "Q9LaRVAjR9DG",
        "colab_type": "code",
        "colab": {}
      },
      "source": [
        "datagen = ImageDataGenerator(\n",
        "        featurewise_center=False,  # establece la media de input a 0 sobre el dataset\n",
        "        samplewise_center=False,  # establece la media de cada muestra a 0\n",
        "        featurewise_std_normalization=False,  # divide el input por el std del dataset\n",
        "        samplewise_std_normalization=False,  # divide cada input por su std\n",
        "        zca_whitening=False,  # ZCA whitening\n",
        "        rotation_range=10,  # rota de forma aleatoria las imagenes en un rando de (grados, 0 to 180)\n",
        "        zoom_range = 0.1, # Zoom aleatorio\n",
        "        width_shift_range=0.1,  # cambia de posición horizontalmente las imagenes de forma aleatoria\n",
        "        height_shift_range=0.1,  # cambia de posición verticalmente las imagenes de forma aleatoria\n",
        "        horizontal_flip=False,  # da la vuelta a las imagenes aleatoriamente (horizontalmente)\n",
        "        vertical_flip=False)  # da la vuelta a las imagenes aleatoriamente (verticalemente)\n",
        "\n",
        "\n",
        "datagen.fit(X_train)"
      ],
      "execution_count": null,
      "outputs": []
    },
    {
      "cell_type": "markdown",
      "metadata": {
        "id": "rq2qXoEQUUwT",
        "colab_type": "text"
      },
      "source": [
        "Esto lo hemos realizado rotando aleatoriamente las imagenes del conjunto de entrenamiento 10 grados, haciendo un zoom del 10% en algunas imagenes del conjunto de entrenamiento, cambiando de posición horizontal y verticalmente las imagenes un 10%. \n",
        "\n",
        "Solo se han realizado estas variaciones, las demas no se aplican para que no se llegue a clasificar de manera erronea numeros como el 6 o el 9."
      ]
    },
    {
      "cell_type": "code",
      "metadata": {
        "id": "tmR7an2WVDJa",
        "colab_type": "code",
        "colab": {
          "base_uri": "https://localhost:8080/",
          "height": 1000
        },
        "outputId": "a4b75c91-92e1-4b1c-906a-6182d9484942"
      },
      "source": [
        "# Por último lo que vamos a hacer es introducir el modelo\n",
        "\n",
        "\n",
        "history = model.fit_generator(datagen.flow(X_train,Y_train, batch_size=batch_size),\n",
        "                              epochs = epochs, validation_data = (X_val,Y_val),\n",
        "                              verbose = 2, steps_per_epoch=X_train.shape[0] // batch_size\n",
        "                              , callbacks=[reduccion_de_tasa_de_aprendizaje])"
      ],
      "execution_count": null,
      "outputs": [
        {
          "output_type": "stream",
          "text": [
            "Epoch 1/30\n",
            " - 14s - loss: 1.8786 - accuracy: 0.3413 - val_loss: nan - val_accuracy: 0.7074\n",
            "Epoch 2/30\n",
            " - 14s - loss: 0.9687 - accuracy: 0.6704 - val_loss: nan - val_accuracy: 0.8952\n",
            "Epoch 3/30\n",
            " - 14s - loss: 0.5914 - accuracy: 0.8046 - val_loss: nan - val_accuracy: 0.9258\n",
            "Epoch 4/30\n",
            " - 14s - loss: 0.4905 - accuracy: 0.8372 - val_loss: nan - val_accuracy: 0.9301\n",
            "Epoch 5/30\n",
            " - 13s - loss: 0.4252 - accuracy: 0.8587 - val_loss: nan - val_accuracy: 0.9476\n",
            "Epoch 6/30\n",
            " - 13s - loss: 0.3419 - accuracy: 0.8864 - val_loss: nan - val_accuracy: 0.9476\n",
            "Epoch 7/30\n",
            " - 13s - loss: 0.2842 - accuracy: 0.9048 - val_loss: nan - val_accuracy: 0.9607\n",
            "Epoch 8/30\n",
            " - 13s - loss: 0.2780 - accuracy: 0.9114 - val_loss: nan - val_accuracy: 0.9607\n",
            "Epoch 9/30\n",
            " - 13s - loss: 0.2224 - accuracy: 0.9311 - val_loss: nan - val_accuracy: 0.9694\n",
            "Epoch 10/30\n",
            " - 13s - loss: 0.2364 - accuracy: 0.9251 - val_loss: nan - val_accuracy: 0.9607\n",
            "Epoch 11/30\n",
            " - 13s - loss: 0.2113 - accuracy: 0.9327 - val_loss: nan - val_accuracy: 0.9476\n",
            "Epoch 12/30\n",
            " - 13s - loss: 0.2083 - accuracy: 0.9342 - val_loss: nan - val_accuracy: 0.9694\n",
            "\n",
            "Epoch 00012: ReduceLROnPlateau reducing learning rate to 0.0005000000237487257.\n",
            "Epoch 13/30\n",
            " - 13s - loss: 0.1342 - accuracy: 0.9615 - val_loss: nan - val_accuracy: 0.9738\n",
            "Epoch 14/30\n",
            " - 13s - loss: 0.1324 - accuracy: 0.9595 - val_loss: nan - val_accuracy: 0.9607\n",
            "Epoch 15/30\n",
            " - 13s - loss: 0.1332 - accuracy: 0.9610 - val_loss: nan - val_accuracy: 0.9738\n",
            "Epoch 16/30\n",
            " - 13s - loss: 0.1059 - accuracy: 0.9656 - val_loss: nan - val_accuracy: 0.9738\n",
            "\n",
            "Epoch 00016: ReduceLROnPlateau reducing learning rate to 0.0002500000118743628.\n",
            "Epoch 17/30\n",
            " - 13s - loss: 0.1172 - accuracy: 0.9590 - val_loss: nan - val_accuracy: 0.9738\n",
            "Epoch 18/30\n",
            " - 13s - loss: 0.1033 - accuracy: 0.9711 - val_loss: nan - val_accuracy: 0.9782\n",
            "Epoch 19/30\n",
            " - 13s - loss: 0.0911 - accuracy: 0.9732 - val_loss: nan - val_accuracy: 0.9782\n",
            "Epoch 20/30\n",
            " - 13s - loss: 0.1055 - accuracy: 0.9721 - val_loss: nan - val_accuracy: 0.9694\n",
            "Epoch 21/30\n",
            " - 13s - loss: 0.0799 - accuracy: 0.9762 - val_loss: nan - val_accuracy: 0.9782\n",
            "\n",
            "Epoch 00021: ReduceLROnPlateau reducing learning rate to 0.0001250000059371814.\n",
            "Epoch 22/30\n",
            " - 13s - loss: 0.0988 - accuracy: 0.9671 - val_loss: nan - val_accuracy: 0.9782\n",
            "Epoch 23/30\n",
            " - 18s - loss: 0.0881 - accuracy: 0.9727 - val_loss: nan - val_accuracy: 0.9782\n",
            "Epoch 24/30\n",
            " - 13s - loss: 0.0703 - accuracy: 0.9767 - val_loss: nan - val_accuracy: 0.9782\n",
            "\n",
            "Epoch 00024: ReduceLROnPlateau reducing learning rate to 6.25000029685907e-05.\n",
            "Epoch 25/30\n",
            " - 13s - loss: 0.0780 - accuracy: 0.9808 - val_loss: nan - val_accuracy: 0.9782\n",
            "Epoch 26/30\n",
            " - 13s - loss: 0.0969 - accuracy: 0.9732 - val_loss: nan - val_accuracy: 0.9825\n",
            "Epoch 27/30\n",
            " - 13s - loss: 0.0960 - accuracy: 0.9696 - val_loss: nan - val_accuracy: 0.9782\n",
            "Epoch 28/30\n",
            " - 13s - loss: 0.0792 - accuracy: 0.9767 - val_loss: nan - val_accuracy: 0.9782\n",
            "Epoch 29/30\n",
            " - 13s - loss: 0.0608 - accuracy: 0.9797 - val_loss: nan - val_accuracy: 0.9825\n",
            "\n",
            "Epoch 00029: ReduceLROnPlateau reducing learning rate to 3.125000148429535e-05.\n",
            "Epoch 30/30\n",
            " - 13s - loss: 0.0808 - accuracy: 0.9757 - val_loss: nan - val_accuracy: 0.9825\n"
          ],
          "name": "stdout"
        }
      ]
    },
    {
      "cell_type": "markdown",
      "metadata": {
        "id": "rc6Zd9taVWYn",
        "colab_type": "text"
      },
      "source": [
        "Ahora que ya tenemos entrenado el modelo, vamos a evaluar la precisión de este:"
      ]
    },
    {
      "cell_type": "code",
      "metadata": {
        "id": "AobSalsCVeNs",
        "colab_type": "code",
        "colab": {
          "base_uri": "https://localhost:8080/",
          "height": 268
        },
        "outputId": "dfb41bad-23e9-4d42-fea0-9f8b35b50eed"
      },
      "source": [
        "fig, ax = plt.subplots(2,1)\n",
        "ax[0].plot(history.history['loss'], color='b', label=\"Training loss\")\n",
        "ax[0].plot(history.history['val_loss'], color='r', label=\"validation loss\",axes =ax[0])\n",
        "legend = ax[0].legend(loc='best', shadow=True)\n",
        "\n",
        "ax[1].plot(history.history['accuracy'], color='b', label=\"Training accuracy\")\n",
        "ax[1].plot(history.history['val_accuracy'], color='r',label=\"Validation accuracy\")\n",
        "legend = ax[1].legend(loc='best', shadow=True)"
      ],
      "execution_count": null,
      "outputs": [
        {
          "output_type": "display_data",
          "data": {
            "image/png": "[encoded data removed]",
            "text/plain": [
              "<Figure size 432x288 with 2 Axes>"
            ]
          },
          "metadata": {
            "tags": []
          }
        }
      ]
    },
    {
      "cell_type": "markdown",
      "metadata": {
        "id": "tDzafdFrWASJ",
        "colab_type": "text"
      },
      "source": [
        "El modelo cuenta con una precisión de aproximadamente un 99%, por lo que podemos decir que es bastante preciso :D ."
      ]
    },
    {
      "cell_type": "markdown",
      "metadata": {
        "id": "ivHmtUQgXDsf",
        "colab_type": "text"
      },
      "source": [
        "# Guardar modelo\n",
        "\n",
        "Ahora vamos a guardar nuestro modelo para poder usarlo con ROS\n"
      ]
    },
    {
      "cell_type": "code",
      "metadata": {
        "id": "i2eUcS7YXLz4",
        "colab_type": "code",
        "colab": {}
      },
      "source": [
        "model.save(\"/tmp/pdm.h5\")"
      ],
      "execution_count": null,
      "outputs": []
    }
  ]
}